{
 "cells": [
  {
   "cell_type": "markdown",
   "metadata": {},
   "source": [
    "## Demo Jupyter + INSAcoin rpc"
   ]
  },
  {
   "cell_type": "markdown",
   "metadata": {},
   "source": [
    "Loading rpc_user and rpc_password values from config file"
   ]
  },
  {
   "cell_type": "code",
   "execution_count": 49,
   "metadata": {},
   "outputs": [],
   "source": [
    "import configparser\n",
    "\n",
    "with open('/home/jovyan/.insacoin/insacoin.conf') as f:\n",
    "    file_content = '[root]\\n' + f.read()\n",
    "\n",
    "    \n",
    "parser = configparser.ConfigParser()\n",
    "parser.read_string(file_content)\n",
    "sectionList = parser.sections()\n",
    "\n",
    "if 'root' in sectionList:\n",
    "    config = dict(parser.items('root'))\n",
    "\n",
    "rpc_user = config['rpcuser']\n",
    "rpc_password = config['rpcpassword']"
   ]
  },
  {
   "cell_type": "markdown",
   "metadata": {},
   "source": [
    "Authenticate to INSAcoin RPC server and make a request"
   ]
  },
  {
   "cell_type": "code",
   "execution_count": 50,
   "metadata": {
    "scrolled": true
   },
   "outputs": [
    {
     "data": {
      "text/plain": [
       "{'hash': '5ac444d6d392c0657fdd2b6e0f80a2daea0762ef2ca06cbe9fd84bbc1ac44ba0',\n",
       " 'confirmations': 1,\n",
       " 'size': 182,\n",
       " 'height': 52565,\n",
       " 'version': 4,\n",
       " 'merkleroot': 'bb9fc5b3a3632501621a4bd429c85218295e3424b99a826e8244ab0087579796',\n",
       " 'tx': ['bb9fc5b3a3632501621a4bd429c85218295e3424b99a826e8244ab0087579796'],\n",
       " 'time': 1547712998,\n",
       " 'nonce': 57559756,\n",
       " 'bits': '1d0fd069',\n",
       " 'difficulty': Decimal('0.06323373'),\n",
       " 'chainwork': '00000000000000000000000000000000000000000000000000000329a1f1c814',\n",
       " 'previousblockhash': '96be7a0a0592a05adbae2407ebf396c2f60ded089f491d563ef883db4a64a8fc'}"
      ]
     },
     "execution_count": 50,
     "metadata": {},
     "output_type": "execute_result"
    }
   ],
   "source": [
    "from bitcoinrpc.authproxy import AuthServiceProxy, JSONRPCException\n",
    "\n",
    "rpc_connection = AuthServiceProxy(\"http://%s:%s@insacoin-core:7332\"%(rpc_user, rpc_password))\n",
    "best_block_hash = rpc_connection.getbestblockhash()\n",
    "rpc_connection.getblock(best_block_hash)"
   ]
  },
  {
   "cell_type": "code",
   "execution_count": 51,
   "metadata": {},
   "outputs": [
    {
     "data": {
      "text/plain": [
       "[1537258510,\n",
       " 1537288592,\n",
       " 1537288823,\n",
       " 1537288884,\n",
       " 1537288884,\n",
       " 1537288885,\n",
       " 1537288886,\n",
       " 1537288886,\n",
       " 1537288888,\n",
       " 1537288889,\n",
       " 1537288891,\n",
       " 1537288894,\n",
       " 1537288895,\n",
       " 1537288896,\n",
       " 1537288896,\n",
       " 1537288897,\n",
       " 1537288898,\n",
       " 1537288899,\n",
       " 1537288900,\n",
       " 1537288901,\n",
       " 1537288901,\n",
       " 1537288904,\n",
       " 1537288906,\n",
       " 1537288906,\n",
       " 1537288910,\n",
       " 1537288911,\n",
       " 1537288913,\n",
       " 1537288920,\n",
       " 1537288921,\n",
       " 1537288922,\n",
       " 1537288923,\n",
       " 1537288925,\n",
       " 1537288925,\n",
       " 1537288925,\n",
       " 1537288926,\n",
       " 1537288928,\n",
       " 1537288929,\n",
       " 1537288930,\n",
       " 1537288931,\n",
       " 1537288932,\n",
       " 1537288936,\n",
       " 1537288936,\n",
       " 1537288936,\n",
       " 1537288941,\n",
       " 1537288942,\n",
       " 1537288945,\n",
       " 1537288947,\n",
       " 1537288949,\n",
       " 1537288950,\n",
       " 1537288950,\n",
       " 1537288952,\n",
       " 1537288955,\n",
       " 1537288957,\n",
       " 1537288958,\n",
       " 1537288959,\n",
       " 1537288960,\n",
       " 1537288960,\n",
       " 1537288962,\n",
       " 1537288962,\n",
       " 1537288964,\n",
       " 1537288965,\n",
       " 1537288965,\n",
       " 1537288966,\n",
       " 1537288968,\n",
       " 1537288968,\n",
       " 1537288969,\n",
       " 1537288970,\n",
       " 1537288971,\n",
       " 1537288976,\n",
       " 1537288976,\n",
       " 1537288977,\n",
       " 1537288978,\n",
       " 1537288980,\n",
       " 1537288981,\n",
       " 1537288983,\n",
       " 1537288984,\n",
       " 1537288984,\n",
       " 1537288985,\n",
       " 1537288986,\n",
       " 1537288987,\n",
       " 1537288988,\n",
       " 1537288988,\n",
       " 1537288991,\n",
       " 1537288993,\n",
       " 1537288995,\n",
       " 1537288997,\n",
       " 1537288998,\n",
       " 1537288999,\n",
       " 1537289000,\n",
       " 1537289001,\n",
       " 1537289001,\n",
       " 1537289004,\n",
       " 1537289006,\n",
       " 1537289007,\n",
       " 1537289011,\n",
       " 1537289011,\n",
       " 1537289013,\n",
       " 1537289013,\n",
       " 1537289014,\n",
       " 1537289015]"
      ]
     },
     "execution_count": 51,
     "metadata": {},
     "output_type": "execute_result"
    }
   ],
   "source": [
    "# batch support : print timestamps of blocks 0 to 99 in 2 RPC round-trips:\n",
    "commands = [ [ \"getblockhash\", height] for height in range(100) ]\n",
    "block_hashes = rpc_connection.batch_(commands)\n",
    "blocks = rpc_connection.batch_([ [ \"getblock\", h ] for h in block_hashes ])\n",
    "block_times = [ block[\"time\"] for block in blocks ]\n",
    "block_times"
   ]
  }
 ],
 "metadata": {
  "kernelspec": {
   "display_name": "Python 3",
   "language": "python",
   "name": "python3"
  },
  "language_info": {
   "codemirror_mode": {
    "name": "ipython",
    "version": 3
   },
   "file_extension": ".py",
   "mimetype": "text/x-python",
   "name": "python",
   "nbconvert_exporter": "python",
   "pygments_lexer": "ipython3",
   "version": "3.7.1"
  }
 },
 "nbformat": 4,
 "nbformat_minor": 2
}
